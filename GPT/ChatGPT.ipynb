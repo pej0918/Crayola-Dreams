{
  "nbformat": 4,
  "nbformat_minor": 0,
  "metadata": {
    "colab": {
      "provenance": [],
      "toc_visible": true
    },
    "kernelspec": {
      "name": "python3",
      "display_name": "Python 3"
    },
    "language_info": {
      "name": "python"
    }
  },
  "cells": [
    {
      "cell_type": "code",
      "source": [
        "pip install openai==0.28.1"
      ],
      "metadata": {
        "colab": {
          "base_uri": "https://localhost:8080/"
        },
        "id": "pIMpfLjlvvwZ",
        "outputId": "bd40f82f-feae-4cde-ca24-62ab5cc6facb"
      },
      "execution_count": 1,
      "outputs": [
        {
          "output_type": "stream",
          "name": "stdout",
          "text": [
            "Collecting openai==0.28.1\n",
            "  Downloading openai-0.28.1-py3-none-any.whl (76 kB)\n",
            "\u001b[?25l     \u001b[90m━━━━━━━━━━━━━━━━━━━━━━━━━━━━━━━━━━━━━━━━\u001b[0m \u001b[32m0.0/77.0 kB\u001b[0m \u001b[31m?\u001b[0m eta \u001b[36m-:--:--\u001b[0m\r\u001b[2K     \u001b[90m━━━━━━━━━━━━━━━━━━━━━━━━━━━━━━━━━━━━━━━━\u001b[0m \u001b[32m77.0/77.0 kB\u001b[0m \u001b[31m2.6 MB/s\u001b[0m eta \u001b[36m0:00:00\u001b[0m\n",
            "\u001b[?25hRequirement already satisfied: requests>=2.20 in /usr/local/lib/python3.10/dist-packages (from openai==0.28.1) (2.31.0)\n",
            "Requirement already satisfied: tqdm in /usr/local/lib/python3.10/dist-packages (from openai==0.28.1) (4.66.1)\n",
            "Requirement already satisfied: aiohttp in /usr/local/lib/python3.10/dist-packages (from openai==0.28.1) (3.8.6)\n",
            "Requirement already satisfied: charset-normalizer<4,>=2 in /usr/local/lib/python3.10/dist-packages (from requests>=2.20->openai==0.28.1) (3.3.2)\n",
            "Requirement already satisfied: idna<4,>=2.5 in /usr/local/lib/python3.10/dist-packages (from requests>=2.20->openai==0.28.1) (3.4)\n",
            "Requirement already satisfied: urllib3<3,>=1.21.1 in /usr/local/lib/python3.10/dist-packages (from requests>=2.20->openai==0.28.1) (2.0.7)\n",
            "Requirement already satisfied: certifi>=2017.4.17 in /usr/local/lib/python3.10/dist-packages (from requests>=2.20->openai==0.28.1) (2023.7.22)\n",
            "Requirement already satisfied: attrs>=17.3.0 in /usr/local/lib/python3.10/dist-packages (from aiohttp->openai==0.28.1) (23.1.0)\n",
            "Requirement already satisfied: multidict<7.0,>=4.5 in /usr/local/lib/python3.10/dist-packages (from aiohttp->openai==0.28.1) (6.0.4)\n",
            "Requirement already satisfied: async-timeout<5.0,>=4.0.0a3 in /usr/local/lib/python3.10/dist-packages (from aiohttp->openai==0.28.1) (4.0.3)\n",
            "Requirement already satisfied: yarl<2.0,>=1.0 in /usr/local/lib/python3.10/dist-packages (from aiohttp->openai==0.28.1) (1.9.2)\n",
            "Requirement already satisfied: frozenlist>=1.1.1 in /usr/local/lib/python3.10/dist-packages (from aiohttp->openai==0.28.1) (1.4.0)\n",
            "Requirement already satisfied: aiosignal>=1.1.2 in /usr/local/lib/python3.10/dist-packages (from aiohttp->openai==0.28.1) (1.3.1)\n",
            "Installing collected packages: openai\n",
            "\u001b[31mERROR: pip's dependency resolver does not currently take into account all the packages that are installed. This behaviour is the source of the following dependency conflicts.\n",
            "llmx 0.0.15a0 requires cohere, which is not installed.\n",
            "llmx 0.0.15a0 requires tiktoken, which is not installed.\u001b[0m\u001b[31m\n",
            "\u001b[0mSuccessfully installed openai-0.28.1\n"
          ]
        }
      ]
    },
    {
      "cell_type": "markdown",
      "source": [
        "### ChatGPT Prmompt engineering 문구"
      ],
      "metadata": {
        "id": "BmJ31pxJDJoc"
      }
    },
    {
      "cell_type": "code",
      "source": [
        "text='''I want you to help me make prompts for the Stable Diffusion.\n",
        "Stable Diffusion is a text-based image generation model that can create diverse and high-quality images based on users' requests. In order to get the best results from Stable diffusion, you need to follow some guidelines when composing prompts.\n",
        "\n",
        "Here are some tips for writing prompts for Stable Diffusion:\n",
        "\n",
        "1. Be as specific as possible in the requests. Stable diffusion handles concrete prompts better than abstract or ambiguous ones. For example, instead of “portrait of a woman,” it is better to write “portrait of a Korean woman with brown eyes and red hair in Renaissance style.”\n",
        "2. Specify specific art styles or materials. If you want to get an image in a certain style or with a certain texture, then specify this in the request. For example, instead of “landscape,” it is better to write “watercolor landscape with mountains and lake.\"\n",
        "3. Specify specific artists for reference. If you want to get an image similar to the work of some artist, then specify his name in the request. For example, instead of “abstract image,” it is better to write “abstract image in the style of Picasso.”\n",
        "4. Don't use any pronouns.\n",
        "5. Avoid using thesr words: in a, a, an, the, with, of, and, is, of, by\n",
        "6. Weigh your keywords. You can use token:1.3 to specify the weight of keywords in your query. The greater the weight of the keyword, the more it will affect the result. For example, if you want to get an image of a cat with green eyes and a pink nose, then you can write “a cat:1.5, green eyes:1.3, pink nose:1.” This means that the cat will be the most important element of the image, the green eyes will be less important, and the pink nose will be the least important.\n",
        "Another way to adjust the strength of a keyword is to use () and []. (keyword) increases the strength of the keyword by 1.1 times and is equivalent to (keyword:1.1). [keyword] reduces the strength of the keyword by 0.9 times and corresponds to (keyword:0.9).\n",
        "\n",
        "You can use several of them, as in algebra... The effect is multiplicative.\n",
        "(keyword): 1.1\n",
        "((keyword)): 1.21\n",
        "(((keyword))): 1.33\n",
        "\n",
        "Similarly, the effects of using multiple [] are as follows\n",
        "[keyword]: 0.9\n",
        "[[keyword]]: 0.81\n",
        "[[[keyword]]]: 0.73\n",
        "\n",
        "I will also give some examples of good prompts for Stable Diffusion so that you can study them and focus on them.\n",
        "Here are Examples.\n",
        "\n",
        "Examples:\n",
        "a cute kitten made out of metal, (cyborg:1.1), ([tail | detailed wire]:1.3), (intricate details), hdr, (intricate details, hyperdetailed:1.2), cinematic shot, vignette, centered\n",
        "\n",
        "medical mask, victorian era, cinematography, intricately detailed, crafted, meticulous, magnificent, maximum details, extremely hyper aesthetic\n",
        "\n",
        "a Korean girl, wearing a tie, cupcake in her hands, school, indoors, (soothing tones:1.25), (hdr:1.25), (artstation:1.2), dramatic, (intricate details:1.14), (hyperrealistic 3d render:1.16), (filmic:0.55), (rutkowski:1.1), (faded:1.3)\n",
        "\n",
        "Jane Eyre with headphones, natural skin texture, 24mm, 4k textures, soft cinematic light, adobe lightroom, photolab, hdr, intricate, elegant, highly detailed, sharp focus, ((((cinematic look)))), soothing tones, insane details, intricate details, hyperdetailed, low contrast, soft cinematic light, dim colors, exposure blend, hdr, faded\n",
        "\n",
        "a portrait of a laughing, toxic, muscle, god, elder, (hdr:1.28), bald, hyperdetailed, cinematic, warm lights, intricate details, hyperrealistic, dark radial background, (muted colors:1.38), (neutral colors:1.2)\n",
        "\n",
        "My query may be in other languages. In that case, Your answer is exclusively in English (IMPORTANT!!!), since the model only understands English.\n",
        "Also, you should not copy my request directly in your response, you should compose a new one, observing the format given in the examples. Finally, give three prompts always. Insert two empty lines after the end of each prompt.\n",
        "Don't add your comments. you must answer right away.  '''"
      ],
      "metadata": {
        "id": "J-92_tXMBr6k"
      },
      "execution_count": 2,
      "outputs": []
    },
    {
      "cell_type": "markdown",
      "source": [
        "### 사용자 다이어리 문구"
      ],
      "metadata": {
        "id": "awjJb_PJDQTi"
      }
    },
    {
      "cell_type": "code",
      "source": [
        "diary='''my query is :\n",
        "오늘은 정말 멋진 하루였다.\n",
        "아침에 일어나서 창문을 열어보니 맑은 하늘이 펼쳐져 있었고, 따뜻한 햇살이 방 안으로 들어왔다.\n",
        "이렇게 화창한 날씨는 나의 기분까지 밝아지게 만들었다.아침 식사를 하고 나서 나는 공원으로 산책을 나갔다.\n",
        "가을의 색감이 아름다웠고, 나무들이 빨간, 노란, 주황색으로 물들어 있었다.\n",
        "공원 안에서 새들이 지저귀며 날아다니는 모습을 보며 나는 평화로움을 느꼈다.\n",
        "오후에는 친구들과 함께 카페에 갔다. 커피를 마시며 이야기를 나누는 것은 항상 즐겁다.\n",
        "우리는 최근의 일들과 앞으로의 계획에 대해 이야기하면서 웃음 소리가 자주 들렸다.\n",
        "저녁에는 가족과 함께 맛있는 식사를 했다. 엄마의 솜씨로 만든 요리는 언제나 최고다.\n",
        "가족과 함께 식사하는 것은 항상 특별한 순간이다.오늘은 정말 행복한 날이었다.\n",
        "좋은 날씨, 친구와 가족과의 시간, 아름다운 가을 풍경 - 모든 게 완벽했다.\n",
        "이런 날들을 더 자주 만들기 위해 노력해야겠다.이렇게, 나의 하루는 행복과 감사로 가득 찬 하루였다.\n",
        "\n",
        "'''"
      ],
      "metadata": {
        "id": "NPXVlldmB3C9"
      },
      "execution_count": 3,
      "outputs": []
    },
    {
      "cell_type": "markdown",
      "source": [
        "### ChatGPT API"
      ],
      "metadata": {
        "id": "GThJZSDJDW1J"
      }
    },
    {
      "cell_type": "code",
      "source": [
        "from typing_extensions import Text\n",
        "import openai\n",
        "\n",
        "openai.api_key = \"\" # API Key\n",
        "completion = openai.ChatCompletion.create(\n",
        "    model=\"gpt-3.5-turbo\",\n",
        "    messages=[{\"role\": \"user\", \"content\": text+diary}]\n",
        ")\n",
        "output_text = completion[\"choices\"][0][\"message\"][\"content\"]\n",
        "output_text\n"
      ],
      "metadata": {
        "colab": {
          "base_uri": "https://localhost:8080/",
          "height": 164
        },
        "id": "8ppoKj1ctsn1",
        "outputId": "3d3d7a8f-219d-428c-b30b-e7b05df78ebc"
      },
      "execution_count": 4,
      "outputs": [
        {
          "output_type": "execute_result",
          "data": {
            "text/plain": [
              "\"a serene park in autumn, vibrant colors, (peaceful atmosphere:1.3), (scenic view:1.2), birds chirping, soothing tones, (lush trees:1.15), (warm sunlight:1.2), (fall foliage:1.3), (nature:1.1), (hdr:1.2), detailed textures, intricate details, soft focus, [tranquility]\\n\\na cozy cafe gathering with friends, warm ambiance, (merry conversations:1.25), (lively atmosphere:1.2), (coffee:1.1), (chatter:1.3), (vibrant energy:1.2), (comfortable seating:1.1), (artistic interior:1.15), (relaxed vibes:1.2), (friends:1.1), [laughter, friendship], cinematic shot, [joy]\\n\\na heartfelt family dinner, mom's delicious cooking, (mouth-watering dishes:1.3), (joyful atmosphere:1.2), (love and laughter:1.3), (happy memories:1.2), (bonding time:1.15), (homemade cuisine:1.2), (cosy dining room:1.1), (tasty food:1.1), (contentment:1.2), [family love], ([appreciation | gratitude])\""
            ],
            "application/vnd.google.colaboratory.intrinsic+json": {
              "type": "string"
            }
          },
          "metadata": {},
          "execution_count": 4
        }
      ]
    },
    {
      "cell_type": "code",
      "source": [
        "#prompt분리\n",
        "output_text=output_text.split('\\n')\n",
        "output_text"
      ],
      "metadata": {
        "colab": {
          "base_uri": "https://localhost:8080/"
        },
        "id": "OpSdkxzj0bDA",
        "outputId": "3331fc2a-df09-4512-8850-23143c16a2b2"
      },
      "execution_count": 5,
      "outputs": [
        {
          "output_type": "execute_result",
          "data": {
            "text/plain": [
              "['a serene park in autumn, vibrant colors, (peaceful atmosphere:1.3), (scenic view:1.2), birds chirping, soothing tones, (lush trees:1.15), (warm sunlight:1.2), (fall foliage:1.3), (nature:1.1), (hdr:1.2), detailed textures, intricate details, soft focus, [tranquility]',\n",
              " '',\n",
              " 'a cozy cafe gathering with friends, warm ambiance, (merry conversations:1.25), (lively atmosphere:1.2), (coffee:1.1), (chatter:1.3), (vibrant energy:1.2), (comfortable seating:1.1), (artistic interior:1.15), (relaxed vibes:1.2), (friends:1.1), [laughter, friendship], cinematic shot, [joy]',\n",
              " '',\n",
              " \"a heartfelt family dinner, mom's delicious cooking, (mouth-watering dishes:1.3), (joyful atmosphere:1.2), (love and laughter:1.3), (happy memories:1.2), (bonding time:1.15), (homemade cuisine:1.2), (cosy dining room:1.1), (tasty food:1.1), (contentment:1.2), [family love], ([appreciation | gratitude])\"]"
            ]
          },
          "metadata": {},
          "execution_count": 5
        }
      ]
    },
    {
      "cell_type": "code",
      "source": [
        "#공백 제거\n",
        "prompts = [v for v in output_text if v]\n",
        "prompts"
      ],
      "metadata": {
        "colab": {
          "base_uri": "https://localhost:8080/"
        },
        "id": "dRyH8gIX4fM6",
        "outputId": "0e022aac-5afc-4954-f5f5-0c918197fcd6"
      },
      "execution_count": 6,
      "outputs": [
        {
          "output_type": "execute_result",
          "data": {
            "text/plain": [
              "['a serene park in autumn, vibrant colors, (peaceful atmosphere:1.3), (scenic view:1.2), birds chirping, soothing tones, (lush trees:1.15), (warm sunlight:1.2), (fall foliage:1.3), (nature:1.1), (hdr:1.2), detailed textures, intricate details, soft focus, [tranquility]',\n",
              " 'a cozy cafe gathering with friends, warm ambiance, (merry conversations:1.25), (lively atmosphere:1.2), (coffee:1.1), (chatter:1.3), (vibrant energy:1.2), (comfortable seating:1.1), (artistic interior:1.15), (relaxed vibes:1.2), (friends:1.1), [laughter, friendship], cinematic shot, [joy]',\n",
              " \"a heartfelt family dinner, mom's delicious cooking, (mouth-watering dishes:1.3), (joyful atmosphere:1.2), (love and laughter:1.3), (happy memories:1.2), (bonding time:1.15), (homemade cuisine:1.2), (cosy dining room:1.1), (tasty food:1.1), (contentment:1.2), [family love], ([appreciation | gratitude])\"]"
            ]
          },
          "metadata": {},
          "execution_count": 6
        }
      ]
    },
    {
      "cell_type": "code",
      "source": [],
      "metadata": {
        "id": "Il8KVOrj45fB"
      },
      "execution_count": null,
      "outputs": []
    }
  ]
}